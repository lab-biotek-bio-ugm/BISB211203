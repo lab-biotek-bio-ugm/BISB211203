{
 "cells": [
  {
   "cell_type": "markdown",
   "id": "78c7a413-302a-4f43-8686-f88a07108946",
   "metadata": {},
   "source": [
    "## Chapter 1 Introduction to t-tests\n",
    "\n",
    "### Understanding the t-distribution"
   ]
  },
  {
   "cell_type": "code",
   "execution_count": null,
   "id": "9da828b4-ad7d-41b5-beb9-7e90d1c42aca",
   "metadata": {
    "vscode": {
     "languageId": "r"
    }
   },
   "outputs": [],
   "source": [
    "library(ggplot2)\n",
    "library(dplyr)"
   ]
  },
  {
   "cell_type": "code",
   "execution_count": null,
   "id": "8add11cf-e145-4bb5-9a5a-2db1835c0af0",
   "metadata": {
    "vscode": {
     "languageId": "r"
    }
   },
   "outputs": [],
   "source": [
    "# Generate a vector of 100 values between -4 and 4\n",
    "n <- 100\n",
    "x <- seq(-4, 4, length = n)\n",
    "\n",
    "# Create a data frame for ggplot2\n",
    "df <- data.frame(Index = 1:n, Value = x)\n",
    "\n",
    "# Plot using ggplot2\n",
    "ggplot(df, aes(x = Index, y = Value)) +\n",
    "  geom_point(color = \"blue\") +\n",
    "  labs(\n",
    "    title = \"Scatter Plot of Values from -4 to 4\",\n",
    "    x = \"Index\",\n",
    "    y = \"Value\"\n",
    "  ) +\n",
    "  theme_minimal()"
   ]
  },
  {
   "cell_type": "markdown",
   "id": "3fc7ed05-cd01-43d5-a520-f36c49a94d4e",
   "metadata": {},
   "source": [
    "To find the value of probability density function (pdf) of the Student's t-distribution given a random variable x, use the dt() function in R.\n",
    "\n",
    "```\n",
    "Syntax: dt(x, df) \n",
    "\n",
    "Parameters:\n",
    "- x is the quantiles vector\n",
    "- df is the degrees of freedom\n",
    "```"
   ]
  },
  {
   "cell_type": "code",
   "execution_count": null,
   "id": "0fcc00a9-cde2-41ff-9e3d-c01179c90937",
   "metadata": {
    "vscode": {
     "languageId": "r"
    }
   },
   "outputs": [],
   "source": [
    "# Simulate the t-distribution\n",
    "y_sample <- dt(x, df = n - 1)\n",
    "\n",
    "# Create a data frame for ggplot2\n",
    "df_y_sample <- data.frame(Index = 1:n, Value = y_sample)\n",
    "\n",
    "# Create the scatter plot\n",
    "ggplot(df_y_sample, aes(x = Index, y = Value)) +\n",
    "  geom_point(color = \"blue\") +\n",
    "  labs(\n",
    "    title = \"T-Distribution\",\n",
    "    x = \"Index\",\n",
    "    y = \"Value\"\n",
    "  ) +\n",
    "  theme_minimal()"
   ]
  },
  {
   "cell_type": "code",
   "execution_count": null,
   "id": "7f77928b-cf32-410b-b13c-b0e37d3cb773",
   "metadata": {
    "vscode": {
     "languageId": "r"
    }
   },
   "outputs": [],
   "source": [
    "# Create a data frame with all distributions\n",
    "df <- data.frame(\n",
    "  x = rep(x, times = 4),\n",
    "  density = c(\n",
    "    dt(x, df = 2),\n",
    "    dt(x, df = 8),\n",
    "    dt(x, df = 32),\n",
    "    dnorm(x)\n",
    "  ),\n",
    "  distribution = factor(rep(c(\"df = 2\", \"df = 8\", \"df = 32\", \"Normal\"), each = length(x)))\n",
    ")\n",
    "\n",
    "# Plot\n",
    "ggplot(df, aes(x = x, y = density, color = distribution)) +\n",
    "  geom_line(linewidth = 1.2) +\n",
    "  labs(\n",
    "    title = \"Comparison of t-distributions\",\n",
    "    x = \"T value\",\n",
    "    y = \"Density\",\n",
    "    color = \"Distribution\"\n",
    "  ) +\n",
    "  theme_minimal()"
   ]
  },
  {
   "cell_type": "markdown",
   "id": "3d8cf140-afc5-4a99-9131-46c79d83e211",
   "metadata": {},
   "source": []
  },
  {
   "cell_type": "code",
   "execution_count": null,
   "id": "e2e9a519-9c90-4f4d-b58f-57a1199b4a46",
   "metadata": {
    "vscode": {
     "languageId": "r"
    }
   },
   "outputs": [],
   "source": [
    "# Import Dataset\n",
    "fish_data <- read.csv(\"assets/data/fish_data.csv\")\n",
    "\n",
    "# Quick look\n",
    "head(fish_data)"
   ]
  },
  {
   "cell_type": "code",
   "execution_count": null,
   "id": "01b01cc3-f8b4-49ce-bf2e-80ab9050a639",
   "metadata": {
    "vscode": {
     "languageId": "r"
    }
   },
   "outputs": [],
   "source": [
    "length_stats <- fish_data %>%\n",
    "  group_by(Lake) %>%\n",
    "  summarise(\n",
    "    mean = mean(Length_cm),\n",
    "    sd = sd(Length_cm),\n",
    "    n = n(),\n",
    "    se = sd / sqrt(n),\n",
    "    df = n - 1\n",
    "  )\n",
    "length_stats"
   ]
  },
  {
   "cell_type": "code",
   "execution_count": null,
   "id": "ddd6e523-a8dd-4eff-be5f-f0c1ab141a60",
   "metadata": {
    "vscode": {
     "languageId": "r"
    }
   },
   "outputs": [],
   "source": [
    "# Generate t-distribution data points for plotting\n",
    "t_curves <- length_stats %>%\n",
    "  rowwise() %>%\n",
    "  do({\n",
    "    x_vals <- seq(.$mean - 4*.$sd, .$mean + 4*.$sd, length.out = 200)\n",
    "    data.frame(\n",
    "      x = x_vals,\n",
    "      y = dt((x_vals - .$mean) / .$se, df = .$df) / .$se,\n",
    "      Lake = .$Lake\n",
    "    )\n",
    "  }) %>%\n",
    "  ungroup()\n",
    "\n",
    "# Plot histogram and t-distribution overlay\n",
    "ggplot(fish_data, aes(x = Length_cm, fill = Lake)) +\n",
    "  geom_histogram(aes(y = ..density..), bins = 15, alpha = 0.5, position = \"identity\") +\n",
    "  geom_line(data = t_curves, aes(x = x, y = y, color = Lake), size = 1) +\n",
    "  labs(\n",
    "    title = \"Fish Length Histogram with t-Distribution Overlay\",\n",
    "    x = \"Length (cm)\",\n",
    "    y = \"Density\"\n",
    "  ) +\n",
    "  theme_minimal()"
   ]
  },
  {
   "cell_type": "code",
   "execution_count": null,
   "id": "5e14d46f-9292-4951-adf6-6ee3ed34d792",
   "metadata": {
    "vscode": {
     "languageId": "r"
    }
   },
   "outputs": [],
   "source": [
    "weight_stats <- fish_data %>%\n",
    "  group_by(Lake) %>%\n",
    "  summarise(\n",
    "    mean = mean(Weight_g),\n",
    "    sd = sd(Weight_g),\n",
    "    n = n(),\n",
    "    se = sd / sqrt(n),\n",
    "    df = n - 1\n",
    "  )\n",
    "weight_stats"
   ]
  },
  {
   "cell_type": "code",
   "execution_count": null,
   "id": "5b1495bc-a065-4c8f-a04f-2027e774edf0",
   "metadata": {
    "vscode": {
     "languageId": "r"
    }
   },
   "outputs": [],
   "source": [
    "ggplot(fish_data, aes(x = Length_cm)) +\n",
    "  geom_histogram(position = \"identity\", alpha = 0.6, bins = 15) +\n",
    "  labs(title = \"Distribution of Fish Length\",\n",
    "       x = \"Length (cm)\",\n",
    "       y = \"Count\") +\n",
    "  theme_minimal()"
   ]
  },
  {
   "cell_type": "code",
   "execution_count": null,
   "id": "ca674272-e8d3-49f6-a4ca-34d4ca874459",
   "metadata": {
    "vscode": {
     "languageId": "r"
    }
   },
   "outputs": [],
   "source": [
    "ggplot(fish_data, aes(x = Length_cm, fill = Lake)) +\n",
    "  geom_histogram(position = \"identity\", alpha = 0.6, bins = 15) +\n",
    "  labs(title = \"Distribution of Fish Length\",\n",
    "       x = \"Length (cm)\",\n",
    "       y = \"Count\") +\n",
    "  theme_minimal()"
   ]
  },
  {
   "cell_type": "code",
   "execution_count": null,
   "id": "2eea633b-0c44-44b2-9f5b-4c535c5f5a26",
   "metadata": {
    "vscode": {
     "languageId": "r"
    }
   },
   "outputs": [],
   "source": [
    "ggplot(fish_data, aes(x = Weight_g, fill = Lake)) +\n",
    "  geom_histogram(position = \"identity\", alpha = 0.6, bins = 15) +\n",
    "  labs(title = \"Distribution of Fish Weight\",\n",
    "       x = \"Weight (g)\",\n",
    "       y = \"Count\") +\n",
    "  theme_minimal()"
   ]
  },
  {
   "cell_type": "code",
   "execution_count": null,
   "id": "a021109b-29f7-47b1-b0cf-0d9c3f1df3cf",
   "metadata": {
    "vscode": {
     "languageId": "r"
    }
   },
   "outputs": [],
   "source": [
    "ggplot(fish_data, aes(x = Lake, y = Length_cm, fill = Lake)) +\n",
    "  geom_boxplot() +\n",
    "  labs(title = \"Fish Length by Lake\",\n",
    "       x = \"Lake Type\",\n",
    "       y = \"Length (cm)\") +\n",
    "  theme_minimal()"
   ]
  },
  {
   "cell_type": "code",
   "execution_count": null,
   "id": "ecce9472-913f-4f14-ad58-c366c253fd65",
   "metadata": {
    "vscode": {
     "languageId": "r"
    }
   },
   "outputs": [],
   "source": [
    "ggplot(fish_data, aes(x = Lake, y = Weight_g, fill = Lake)) +\n",
    "  geom_boxplot() +\n",
    "  labs(title = \"Fish Weight by Lake\",\n",
    "       x = \"Lake Type\",\n",
    "       y = \"Weigth (gram)\") +\n",
    "  theme_minimal()"
   ]
  },
  {
   "cell_type": "code",
   "execution_count": null,
   "id": "de435e67-9fcd-409f-9d4e-3d4282f95597",
   "metadata": {
    "vscode": {
     "languageId": "r"
    }
   },
   "outputs": [],
   "source": []
  }
 ],
 "metadata": {
  "kernelspec": {
   "display_name": "R",
   "language": "R",
   "name": "ir"
  },
  "language_info": {
   "codemirror_mode": "r",
   "file_extension": ".r",
   "mimetype": "text/x-r-source",
   "name": "R",
   "pygments_lexer": "r",
   "version": "4.3.3"
  }
 },
 "nbformat": 4,
 "nbformat_minor": 5
}
