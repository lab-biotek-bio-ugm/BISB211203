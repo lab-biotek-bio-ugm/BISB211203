{
 "cells": [
  {
   "cell_type": "markdown",
   "id": "95c437f9-e43e-4931-ab9c-85f0e9797318",
   "metadata": {},
   "source": [
    "# Chi-square Test\n",
    "## What is the Chi-Square Test?\n",
    "The Chi-Square Test of Independence helps us answer:\n",
    "\n",
    "- Is there a relationship between two categorical variables?\n",
    "- Or are they independent?\n",
    "\n",
    "It compares the observed frequencies (what we actually see) to the expected frequencies (what we would expect if the variables were not related)."
   ]
  },
  {
   "cell_type": "code",
   "execution_count": null,
   "id": "bdcce13e-ecee-4797-bcb1-c82684d1ce2c",
   "metadata": {
    "editable": true,
    "slideshow": {
     "slide_type": ""
    },
    "tags": [],
    "vscode": {
     "languageId": "r"
    }
   },
   "outputs": [],
   "source": [
    "library(palmerpenguins)\n",
    "library(ggplot2)\n",
    "library(dplyr)\n",
    "library(ggrepel)\n",
    "library(ggthemes)"
   ]
  },
  {
   "cell_type": "markdown",
   "id": "60ec33a0-d7d5-4405-8fbe-ff3899a651ea",
   "metadata": {},
   "source": [
    "## 📦 Example: Penguins on Islands\n",
    "Let's take a look at our penguin dataset again.\n",
    "How are the penguins distributed in the three islands?\n",
    "\n",
    "<div style=\"position: relative; display: inline-block;\">\n",
    "\n",
    "  <!-- Map background -->\n",
    "  <img src=\"https://raw.githubusercontent.com/lab-biotek-bio-ugm/BISB211203/refs/heads/main/assets/figures/penguins_palmer_archipelago.png\" style=\"width: 100%;\">\n",
    "\n",
    "  <!-- Penguin overlay centered -->\n",
    "  <img src=\"https://github.com/allisonhorst/palmerpenguins/raw/main/man/figures/lter_penguins.png\"\n",
    "       style=\"\n",
    "         position: absolute;\n",
    "         top: 50%;\n",
    "         left: 50%;\n",
    "         transform: translate(-50%, -50%);\n",
    "         width: 40%;\n",
    "         border: 2px solid white;\n",
    "         box-shadow: 2px 2px 6px rgba(0,0,0,0.2);\n",
    "         border-radius: 4px;\">\n",
    "</div>\n",
    "\n",
    "### Observed Frequencies (O)"
   ]
  },
  {
   "cell_type": "code",
   "execution_count": null,
   "id": "6172b19f-76c6-4b1d-9c81-7f17fec2625c",
   "metadata": {
    "vscode": {
     "languageId": "r"
    }
   },
   "outputs": [],
   "source": [
    "df <- na.omit(penguins)\n",
    "\n",
    "# Create observed contingency table\n",
    "penguin_table <- table(df$species, df$island)\n",
    "as.data.frame.matrix(penguin_table)"
   ]
  },
  {
   "cell_type": "markdown",
   "id": "7e8611ac-b914-494c-9e52-082d529d32d0",
   "metadata": {},
   "source": [
    "It seems that there are some preferences of the penguins to live in a certain island? Don't you think so?\n",
    "\n",
    "Let's test this question:\n",
    "> **Is species distribution associated with the islands?**\n",
    "\n",
    "### Expected Frequencies (E)\n",
    "If there's no association, the penguins would be distributed proportionally in each island.\n",
    "\n",
    "We can use this formula to calculate the expected frequency in each island.\n",
    "\n",
    "$E_{ij} = \\frac{(\\text{row total}_i) \\times (\\text{column total}_j)}{\\text{grand total}}$\n",
    "\n",
    "So the Expected Table is:"
   ]
  },
  {
   "cell_type": "code",
   "execution_count": null,
   "id": "10780847-ab39-4c5e-89da-4ad5dfedef67",
   "metadata": {
    "vscode": {
     "languageId": "r"
    }
   },
   "outputs": [],
   "source": [
    "# Get totals\n",
    "row_totals <- rowSums(penguin_table)\n",
    "col_totals <- colSums(penguin_table)\n",
    "grand_total <- sum(penguin_table)\n",
    "\n",
    "# Manually compute expected frequency matrix\n",
    "expected_matrix <- outer(row_totals, col_totals, FUN = function(r, c) (r * c) / grand_total)\n",
    "\n",
    "# Round to nearest integer\n",
    "expected_matrix <- round(expected_matrix)\n",
    "\n",
    "# Assign row and column names\n",
    "rownames(expected_matrix) <- rownames(penguin_table)\n",
    "colnames(expected_matrix) <- colnames(penguin_table)\n",
    "\n",
    "# View expected frequencies\n",
    "expected_matrix"
   ]
  },
  {
   "cell_type": "markdown",
   "id": "400ca2ee-e480-42f4-a4d0-2312b2bd48db",
   "metadata": {},
   "source": [
    "Let's compare the observed and expected values side by side:"
   ]
  },
  {
   "cell_type": "code",
   "execution_count": null,
   "id": "600ad8dc-1576-4d3f-ae18-8ac89a5e700f",
   "metadata": {
    "vscode": {
     "languageId": "r"
    }
   },
   "outputs": [],
   "source": [
    "# Extract observed and expected\n",
    "observed <- as.numeric(penguin_table)\n",
    "expected <- as.numeric(expected_matrix)\n",
    "\n",
    "# Combine into a data frame with labels\n",
    "species <- rep(rownames(penguin_table), times = ncol(penguin_table))\n",
    "island <- rep(colnames(penguin_table), each = nrow(penguin_table))\n",
    "\n",
    "observation_table <- data.frame(\n",
    "  Species = species,\n",
    "  Island = island,\n",
    "  Observed = observed,\n",
    "  Expected = round(expected, 2)\n",
    ")\n",
    "\n",
    "observation_table"
   ]
  },
  {
   "cell_type": "markdown",
   "id": "a007b3af-2041-4f5f-b6ae-b1caa5835f32",
   "metadata": {},
   "source": [
    "## Calculating the Chi-square\n",
    "\n",
    "The Chi-Square test statistic tells us **how different** the observed data is from what we would expect under the assumption that the two categorical variables are independent.\n",
    "\n",
    "We use the following formula:\n",
    "\n",
    "$$\n",
    "\\chi^2 = \\sum \\frac{(O - E)^2}{E}\n",
    "$$\n",
    "\n",
    "Where:\n",
    "\n",
    "- $( O )$ = observed frequency (what we actually counted)\n",
    "- $( E )$ = expected frequency (what we would expect if there were no association)\n",
    "- $( \\chi^2 )$ = the total test statistic, measuring the overall difference between observed and expected\n",
    "\n",
    "---\n",
    "\n",
    "### 🔍 How does it work?\n",
    "\n",
    "We go through each cell of the contingency table and compute:\n",
    "\n",
    "$$\n",
    "\\frac{(O - E)^2}{E}\n",
    "$$\n",
    "\n",
    "This value will be:\n",
    "- **Close to 0** if observed and expected are similar\n",
    "- **Larger** when there's a big difference between the two\n",
    "\n",
    "Then we **sum up** all of these values from every cell to get the total Chi-Square statistic.\n",
    "\n",
    "---\n",
    "\n",
    "### 🎯 What does it tell us?\n",
    "\n",
    "If the resulting $( \\chi^2 )$ value is **large enough**, it means the differences between observed and expected are **too big to be due to random chance**.  \n",
    "This suggests that the two variables (like *species* and *island*) are **likely associated**.\n",
    "\n",
    "---\n",
    "\n",
    "### 📊 Visualize O vs E\n",
    "\n",
    "To help you better understand where the differences come from, you can make a bar plot comparing observed vs expected frequencies:\n"
   ]
  },
  {
   "cell_type": "code",
   "execution_count": null,
   "id": "5e25895e-cbce-4594-bb79-f6824b2bec57",
   "metadata": {
    "vscode": {
     "languageId": "r"
    }
   },
   "outputs": [],
   "source": [
    "ggplot(observation_table, aes(x = Island, fill = Species)) +\n",
    "  geom_bar(aes(y = Observed), stat = \"identity\", position = \"dodge\", alpha = 0.7) +\n",
    "  geom_point(aes(y = Expected), shape = 4, size = 3,\n",
    "             position = position_dodge(width = 0.9)) +\n",
    "  labs(title = \"Observed vs Expected Counts\",\n",
    "       y = \"Frequency\", caption = \"X marks expected values\") +\n",
    "  theme_minimal()"
   ]
  },
  {
   "cell_type": "markdown",
   "id": "7b490776-cd7a-495e-8469-2332097a804a",
   "metadata": {},
   "source": [
    "### Let's Calculate the Chi-Square value\n",
    "\n",
    "Let's go through each cell of the contingency table and compute:\n",
    "\n",
    "$$\n",
    "\\frac{(O - E)^2}{E}\n",
    "$$\n",
    "\n",
    "And at the end, we will create a sum of all the component values"
   ]
  },
  {
   "cell_type": "code",
   "execution_count": null,
   "id": "8f92e9a1-76d0-4cb4-a2f5-171a7e22b9ba",
   "metadata": {
    "vscode": {
     "languageId": "r"
    }
   },
   "outputs": [],
   "source": [
    "# Calculate chi-square components: (O - E)^2 / E\n",
    "component <- (observed - expected)^2 / expected\n",
    "\n",
    "# Add to the data frame (round if desired)\n",
    "observation_table$Component <- round(component, 2)\n",
    "\n",
    "# View the updated table\n",
    "observation_table\n",
    "\n",
    "# Total chi-square statistic\n",
    "cat(\"Total χ² =\", round(sum(component), 2), \"\\n\")"
   ]
  },
  {
   "cell_type": "markdown",
   "id": "d77ce729-86a4-4764-bf6c-f33e1dfa1cb7",
   "metadata": {},
   "source": [
    "### Degrees of Freedom\n",
    "\n",
    "So, we got the χ² values, but how do we interpret it? Before we can interpret the value, first we need to calculate the degree of freedom first.\n",
    "\n",
    "The degrees of freedom (df) for a Chi-Square test in a contingency table is calculated as:\n",
    "\n",
    "$$\n",
    "df = (\\text{\\#rows} - 1) \\times (\\text{\\#columns} - 1)\n",
    "$$\n",
    "\n",
    "In our case, there are 3 species (rows) and 3 islands (columns):\n",
    "\n",
    "$$\n",
    "df = (3 - 1)(3 - 1) = 2 \\times 2 = 4\n",
    "$$\n",
    "\n",
    "We can use the df to find the critical value from a Chi-Square distribution table at a significance level of 0.05.\n"
   ]
  },
  {
   "cell_type": "code",
   "execution_count": null,
   "id": "e82bc04e-ed36-48ea-8203-f760395d1bb2",
   "metadata": {
    "vscode": {
     "languageId": "r"
    }
   },
   "outputs": [],
   "source": [
    "# Parameters\n",
    "df_val <- 4\n",
    "alpha <- 0.05\n",
    "\n",
    "# Critical value (right-tail threshold)\n",
    "critical_value <- qchisq(p = 1 - alpha, df = df_val)\n",
    "\n",
    "# Generate x and y for chi-square density curve\n",
    "x <- seq(0, critical_value + 10, length.out = 500)\n",
    "y <- dchisq(x, df = df_val)\n",
    "\n",
    "# Plot the Chi-Square distribution\n",
    "plot(x, y, type = \"l\", lwd = 2, col = \"#2171B5\",\n",
    "     ylab = \"Density\", xlab = expression(chi^2),\n",
    "     main = bquote(\"Chi-Square Distribution (df = \" ~ .(df_val) ~ \")\"))\n",
    "\n",
    "# Add vertical line at critical value\n",
    "abline(v = critical_value, col = \"#c02728\", lwd = 2, lty = 2)\n",
    "\n",
    "# Shade the rejection region (right tail)\n",
    "x_shade <- seq(critical_value, max(x), length.out = 100)\n",
    "y_shade <- dchisq(x_shade, df = df_val)\n",
    "polygon(c(critical_value, x_shade, max(x_shade)),\n",
    "        c(0, y_shade, 0),\n",
    "        col = \"#FF666680\", border = NA)\n",
    "\n",
    "# Annotate the plot\n",
    "text(critical_value + 1.5, max(y)*0.5,\n",
    "     paste0(\"Critical value (0.05) = \", round(critical_value, 2)),\n",
    "     col = \"#c02728\")\n"
   ]
  },
  {
   "cell_type": "markdown",
   "id": "c3639a3a-8d3a-438e-b773-f1e2b8507495",
   "metadata": {},
   "source": [
    "### Interpretation\n",
    "\n",
    "Now we compare the calculated Chi-Square statistic to the critical value from a Chi-Square distribution table at a significance level of 0.05.\n",
    "\n",
    "If:\n",
    "\n",
    "- $( \\chi^2 = 284.59 )$\n",
    "- $( df = 4 )$\n",
    "- Critical value at $( \\alpha = 0.05 )$ is **9.49**\n",
    "\n",
    "Then:\n",
    "\n",
    "$$\n",
    "284.59 > 9.49\n",
    "$$\n",
    "\n",
    "So we **reject the null hypothesis**.\n",
    "\n",
    "---\n",
    "\n",
    "✅ **Conclusion**:  \n",
    "- There is a **statistically significant relationship** between penguin species and the islands where they are found.  \n",
    "- The distribution is **not uniform** and likely reflects ecological or behavioral preferences."
   ]
  },
  {
   "cell_type": "markdown",
   "id": "cbf31fc9-83dc-4bfb-926d-56ff95958d17",
   "metadata": {},
   "source": [
    "## Running chi-square test in R\n",
    "\n",
    "R has a neat chi-square package, so we can directly use the library instead of calculating it manually:"
   ]
  },
  {
   "cell_type": "code",
   "execution_count": null,
   "id": "b66033fa-9a19-4fc2-81a2-66baad9e5248",
   "metadata": {
    "vscode": {
     "languageId": "r"
    }
   },
   "outputs": [],
   "source": [
    "# Run the chi-square test\n",
    "chi <- chisq.test(penguin_table)\n",
    "\n",
    "chi"
   ]
  },
  {
   "cell_type": "markdown",
   "id": "b6b5c6e2-ae24-4a16-910f-5c51047a7098",
   "metadata": {},
   "source": [
    "Let us also visualize the result:"
   ]
  },
  {
   "cell_type": "code",
   "execution_count": null,
   "id": "96a36333-eb90-4c8d-9a94-815617085dec",
   "metadata": {
    "vscode": {
     "languageId": "r"
    }
   },
   "outputs": [],
   "source": [
    "# Extract test statistic and df\n",
    "chi_stat <- chi$statistic\n",
    "df_val <- chi$parameter\n",
    "\n",
    "# Create x values for chi-square density\n",
    "x <- seq(0, chi_stat + 20, length.out = 500)\n",
    "y <- dchisq(x, df = df_val)\n",
    "\n",
    "# Plot\n",
    "plot(x, y, type = \"l\", lwd = 2, col = \"#2171B5\",\n",
    "     ylab = \"Density\", xlab = expression(chi^2),\n",
    "     main = paste(\"Chi-Square Distribution (df =\", df_val, \")\"))\n",
    "\n",
    "# Add vertical line at test statistic\n",
    "abline(v = chi_stat, col = \"#c02728\", lwd = 2, lty = 2)\n",
    "\n",
    "# Annotate\n",
    "text(chi_stat + 2, max(y)*0.8,\n",
    "     labels = paste0(\"X² = \", round(chi_stat, 2)),\n",
    "     col = \"#c02728\")"
   ]
  }
 ],
 "metadata": {
  "kernelspec": {
   "display_name": "R",
   "language": "R",
   "name": "ir"
  },
  "language_info": {
   "codemirror_mode": "r",
   "file_extension": ".r",
   "mimetype": "text/x-r-source",
   "name": "R",
   "pygments_lexer": "r",
   "version": "4.3.3"
  }
 },
 "nbformat": 4,
 "nbformat_minor": 5
}
