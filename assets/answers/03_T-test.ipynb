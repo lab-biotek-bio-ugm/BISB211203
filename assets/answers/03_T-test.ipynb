{
 "cells": [
  {
   "cell_type": "markdown",
   "id": "78c7a413-302a-4f43-8686-f88a07108946",
   "metadata": {},
   "source": [
    "## Chapter 1 Introduction to T-tests\n",
    "\n",
    "### Understanding the T-distribution\n",
    "_adapted from: https://github.com/JoshuaHaden/Intro-to-Statistics-with-R-Student-s-T-test-Data-Camp_"
   ]
  },
  {
   "cell_type": "code",
   "execution_count": 6,
   "id": "9da828b4-ad7d-41b5-beb9-7e90d1c42aca",
   "metadata": {
    "vscode": {
     "languageId": "r"
    }
   },
   "outputs": [],
   "source": [
    "library(ggplot2)\n",
    "library(dplyr)"
   ]
  },
  {
   "cell_type": "code",
   "execution_count": null,
   "id": "8add11cf-e145-4bb5-9a5a-2db1835c0af0",
   "metadata": {
    "vscode": {
     "languageId": "r"
    }
   },
   "outputs": [],
   "source": [
    "# Generate a vector of 100 values between -4 and 4\n",
    "n <- 100\n",
    "x <- seq(-4, 4, length = n)\n",
    "\n",
    "# Create a data frame for ggplot2\n",
    "df_raw <- data.frame(Index = 1:n, Value = x)\n",
    "\n",
    "# Plot using ggplot2\n",
    "ggplot(df_raw, aes(x = Index, y = Value)) +\n",
    "  geom_point(color = \"blue\") +\n",
    "  labs(\n",
    "    title = \"Scatter Plot of Values from -4 to 4\",\n",
    "    x = \"Index\",\n",
    "    y = \"Value\"\n",
    "  ) +\n",
    "  theme_minimal()"
   ]
  },
  {
   "cell_type": "markdown",
   "id": "3fc7ed05-cd01-43d5-a520-f36c49a94d4e",
   "metadata": {},
   "source": [
    "To find the value of probability density function (pdf) of the Student's t-distribution given a random variable x, use the dt() function in R.\n",
    "\n",
    "```\n",
    "Syntax: dt(x, df) \n",
    "\n",
    "Parameters:\n",
    "- x is the quantiles vector\n",
    "- df is the degrees of freedom\n",
    "```"
   ]
  },
  {
   "cell_type": "code",
   "execution_count": null,
   "id": "0fcc00a9-cde2-41ff-9e3d-c01179c90937",
   "metadata": {
    "vscode": {
     "languageId": "r"
    }
   },
   "outputs": [],
   "source": [
    "# Simulate the t-distribution\n",
    "y <- dt(x, df = n - 1)\n",
    "\n",
    "# Create a data frame for ggplot2\n",
    "df_T <- data.frame(Index = 1:n, Value = y)\n",
    "\n",
    "# Create the scatter plot\n",
    "ggplot(df_T, aes(x = Index, y = Value)) +\n",
    "  geom_line(color = \"blue\") +\n",
    "  labs(\n",
    "    title = \"T-Distribution\",\n",
    "    x = \"Index\",\n",
    "    y = \"Value\"\n",
    "  ) +\n",
    "  theme_minimal()"
   ]
  },
  {
   "cell_type": "code",
   "execution_count": null,
   "id": "ca0f22c1-5f97-4021-b458-a24a52c5dc00",
   "metadata": {
    "vscode": {
     "languageId": "r"
    }
   },
   "outputs": [],
   "source": [
    "# Step 1: Sample from t-distribution\n",
    "set.seed(123)\n",
    "sample_size <- 30\n",
    "sample_data <- rt(sample_size, df = n-1)\n",
    "sample_mean <- mean(sample_data)\n",
    "\n",
    "# Step 2: Plot with rug (horizontal tick marks showing sample values)\n",
    "ggplot(df_T, aes(x = x, y = y)) +\n",
    "  geom_line(color = \"blue\", size = 1.2) +\n",
    "  geom_vline(xintercept = sample_mean, color = \"red\", linetype = \"dashed\", size = 1) +\n",
    "  geom_rug(data = data.frame(x = sample_data), aes(x = x), inherit.aes = FALSE, sides = \"b\", color = \"black\", alpha = 0.5) +\n",
    "  annotate(\"text\", x = sample_mean, y = max(y)*0.9,\n",
    "           label = paste0(\"Mean = \", round(sample_mean, 2)), color = \"red\", hjust = -0.1) +\n",
    "  labs(title = \"T-Distribution with Sample Mean\",\n",
    "       x = \"t-value\", y = \"Density\") +\n",
    "  theme_minimal()"
   ]
  },
  {
   "cell_type": "code",
   "execution_count": null,
   "id": "be2cdced-b75f-471b-9b16-6432d0743e12",
   "metadata": {
    "vscode": {
     "languageId": "r"
    }
   },
   "outputs": [],
   "source": [
    "# Step 1: Generate multiple samples\n",
    "set.seed(123)\n",
    "sample_size <- 30\n",
    "n_repeats <- 5\n",
    "\n",
    "# Store all sample data with sample ID\n",
    "samples <- lapply(1:n_repeats, function(i) {\n",
    "  data.frame(Sample = paste0(\"Sample \", i),\n",
    "             Value = rt(sample_size, df = n-1))\n",
    "}) %>% bind_rows()\n",
    "\n",
    "# Compute means for each sample\n",
    "sample_means <- samples %>%\n",
    "  group_by(Sample) %>%\n",
    "  summarise(mean = mean(Value))\n",
    "\n",
    "# Step 2: Base plot with t-distribution\n",
    "p <- ggplot(df_T, aes(x = x, y = y)) +\n",
    "  geom_line(color = \"blue\", size = 1.2) +\n",
    "  labs(title = \"T-Distribution with Multiple Sample Rugs and Means\",\n",
    "       x = \"t-value\", y = \"Density\") +\n",
    "  theme_minimal()\n",
    "\n",
    "# Step 3: Add rugs and means\n",
    "# We'll loop through each sample group and add them\n",
    "for (i in seq_len(n_repeats)) {\n",
    "  sample_name <- paste0(\"Sample \", i)\n",
    "  sample_vals <- samples %>% filter(Sample == sample_name)\n",
    "  sample_mean <- sample_means %>% filter(Sample == sample_name) %>% pull(mean)\n",
    "  \n",
    "  # Add rug and mean line\n",
    "  p <- p +\n",
    "    geom_rug(data = sample_vals, aes(x = Value), inherit.aes = FALSE,\n",
    "             sides = \"b\", alpha = 0.4, color = scales::hue_pal()(n_repeats)[i]) +\n",
    "    geom_vline(xintercept = sample_mean, color = scales::hue_pal()(n_repeats)[i],\n",
    "               linetype = \"dashed\", size = 0.8)\n",
    "}\n",
    "\n",
    "# Print the plot\n",
    "p"
   ]
  },
  {
   "cell_type": "markdown",
   "id": "d26d5a9c-fc01-4e50-ba02-4c55cf18e252",
   "metadata": {},
   "source": [
    "The bigger degree of freedom, the closer your T distribution to normal distribution"
   ]
  },
  {
   "cell_type": "code",
   "execution_count": null,
   "id": "7f77928b-cf32-410b-b13c-b0e37d3cb773",
   "metadata": {
    "vscode": {
     "languageId": "r"
    }
   },
   "outputs": [],
   "source": [
    "# Create a data frame with all distributions\n",
    "df <- data.frame(\n",
    "  x = rep(x, times = 4),\n",
    "  density = c(\n",
    "    dt(x, df = 2),\n",
    "    dt(x, df = 8),\n",
    "    dt(x, df = 32),\n",
    "    dnorm(x)\n",
    "  ),\n",
    "  distribution = factor(rep(c(\"df = 2\", \"df = 8\", \"df = 32\", \"Normal\"), each = length(x)))\n",
    ")\n",
    "\n",
    "# Plot\n",
    "ggplot(df, aes(x = x, y = density, color = distribution)) +\n",
    "  geom_line(linewidth = 1.2) +\n",
    "  labs(\n",
    "    title = \"Comparison of t-distributions\",\n",
    "    x = \"T value\",\n",
    "    y = \"Density\",\n",
    "    color = \"Distribution\"\n",
    "  ) +\n",
    "  theme_minimal()"
   ]
  },
  {
   "cell_type": "markdown",
   "id": "8f820f66-53c6-41f3-a883-57e987be69bc",
   "metadata": {},
   "source": [
    "## 🐟 Investigating Fish Populations Near a Factory\n",
    "\n",
    "A group of environmental biologists is conducting a study on the possible ecological impact of a local manufacturing plant. The factory is located between two small lakes that are part of the same river system:\n",
    "\n",
    "- The first lake is **upstream** of the factory and receives no direct runoff from industrial activities.\n",
    "\n",
    "- The second lake is **downstream** of the factory and could potentially be affected by effluents or waste discharge.\n",
    "\n",
    "To assess the potential impact, the team collected samples of fish from both lakes. For each fish, they recorded:\n",
    "\n",
    "- **Length** (in centimeters)\n",
    "\n",
    "- **Weight** (in grams)\n",
    "\n",
    "The scientists want to determine whether the fish population in the Downstream lake shows any significant difference in size compared to the Upstream lake. Differences in fish size (length or weight) could be an indicator of environmental stress, food availability, or contamination.\n",
    "\n",
    "### 1. Exploratory Data Analysis"
   ]
  },
  {
   "cell_type": "code",
   "execution_count": null,
   "id": "e2e9a519-9c90-4f4d-b58f-57a1199b4a46",
   "metadata": {
    "vscode": {
     "languageId": "r"
    }
   },
   "outputs": [],
   "source": [
    "# Import Dataset\n",
    "fish_data <- read.csv(\"../data/fish_data_weight.csv\")\n",
    "\n",
    "# Quick look\n",
    "head(fish_data)"
   ]
  },
  {
   "cell_type": "code",
   "execution_count": null,
   "id": "01b01cc3-f8b4-49ce-bf2e-80ab9050a639",
   "metadata": {
    "vscode": {
     "languageId": "r"
    }
   },
   "outputs": [],
   "source": [
    "length_stats <- fish_data %>%\n",
    "  group_by(Lake) %>%\n",
    "  summarise(\n",
    "    mean = mean(Length_cm),\n",
    "    sd = sd(Length_cm),\n",
    "    n = n(),\n",
    "    se = sd / sqrt(n),\n",
    "    df = n - 1\n",
    "  )\n",
    "length_stats"
   ]
  },
  {
   "cell_type": "code",
   "execution_count": null,
   "id": "5e14d46f-9292-4951-adf6-6ee3ed34d792",
   "metadata": {
    "vscode": {
     "languageId": "r"
    }
   },
   "outputs": [],
   "source": [
    "weight_stats <- fish_data %>%\n",
    "  group_by(Lake) %>%\n",
    "  summarise(\n",
    "    mean = mean(Weight_g),\n",
    "    sd = sd(Weight_g),\n",
    "    n = n(),\n",
    "    se = sd / sqrt(n),\n",
    "    df = n - 1\n",
    "  )\n",
    "weight_stats"
   ]
  },
  {
   "cell_type": "code",
   "execution_count": null,
   "id": "54ed5253-7d38-4ca1-ba6c-b1794c586252",
   "metadata": {
    "vscode": {
     "languageId": "r"
    }
   },
   "outputs": [],
   "source": [
    "# Visualize using scatter plot to see the distribution\n",
    "ggplot(fish_data, aes(x = Length_cm, y = Weight_g, color = Lake)) +\n",
    "  geom_point(size = 3, alpha = 0.7) +\n",
    "  labs(\n",
    "    title = \"Fish Length vs. Weight\",\n",
    "    x = \"Length (cm)\",\n",
    "    y = \"Weight (g)\",\n",
    "    color = \"Lake\"\n",
    "  ) +\n",
    "  theme_minimal()"
   ]
  },
  {
   "cell_type": "code",
   "execution_count": null,
   "id": "5b1495bc-a065-4c8f-a04f-2027e774edf0",
   "metadata": {
    "vscode": {
     "languageId": "r"
    }
   },
   "outputs": [],
   "source": [
    "ggplot(fish_data, aes(x = Length_cm)) +\n",
    "  geom_histogram(position = \"identity\", alpha = 0.6, bins = 15) +\n",
    "  labs(title = \"Distribution of Fish Length\",\n",
    "       x = \"Length (cm)\",\n",
    "       y = \"Count\") +\n",
    "  theme_minimal()"
   ]
  },
  {
   "cell_type": "code",
   "execution_count": null,
   "id": "ca674272-e8d3-49f6-a4ca-34d4ca874459",
   "metadata": {
    "vscode": {
     "languageId": "r"
    }
   },
   "outputs": [],
   "source": [
    "ggplot(fish_data, aes(x = Length_cm, fill = Lake)) +\n",
    "  geom_histogram(position = \"identity\", alpha = 0.6, bins = 15) +\n",
    "  labs(title = \"Distribution of Fish Length\",\n",
    "       x = \"Length (cm)\",\n",
    "       y = \"Count\") +\n",
    "  theme_minimal()"
   ]
  },
  {
   "cell_type": "code",
   "execution_count": null,
   "id": "2eea633b-0c44-44b2-9f5b-4c535c5f5a26",
   "metadata": {
    "vscode": {
     "languageId": "r"
    }
   },
   "outputs": [],
   "source": [
    "ggplot(fish_data, aes(x = Weight_g, fill = Lake)) +\n",
    "  geom_histogram(position = \"identity\", alpha = 0.6, bins = 15) +\n",
    "  labs(title = \"Distribution of Fish Weight\",\n",
    "       x = \"Weight (g)\",\n",
    "       y = \"Count\") +\n",
    "  theme_minimal()"
   ]
  },
  {
   "cell_type": "code",
   "execution_count": null,
   "id": "57beba26-08c3-4505-b86a-7edadcf37101",
   "metadata": {
    "vscode": {
     "languageId": "r"
    }
   },
   "outputs": [],
   "source": [
    "# Summarise data to get mean and standard error per group\n",
    "weight_summary <- fish_data %>%\n",
    "  group_by(Lake) %>%\n",
    "  summarise(\n",
    "    mean_weight = mean(Length_cm),\n",
    "    se_weight = sd(Length_cm) / sqrt(n())\n",
    "  )\n",
    "\n",
    "# Bar plot with error bars\n",
    "ggplot(weight_summary, aes(x = Lake, y = mean_weight, fill = Lake)) +\n",
    "  geom_col(width = 0.6) +\n",
    "  geom_errorbar(aes(ymin = mean_weight - se_weight,\n",
    "                    ymax = mean_weight + se_weight),\n",
    "                width = 0.2) +\n",
    "  labs(title = \"Mean Fish Length by Lake\",\n",
    "       x = \"Lake Type\",\n",
    "       y = \"Length (cm)\") +\n",
    "  theme_minimal()"
   ]
  },
  {
   "cell_type": "code",
   "execution_count": null,
   "id": "a021109b-29f7-47b1-b0cf-0d9c3f1df3cf",
   "metadata": {
    "vscode": {
     "languageId": "r"
    }
   },
   "outputs": [],
   "source": [
    "ggplot(fish_data, aes(x = Lake, y = Length_cm, fill = Lake)) +\n",
    "  geom_boxplot() +\n",
    "  labs(title = \"Fish Length by Lake\",\n",
    "       x = \"Lake Type\",\n",
    "       y = \"Length (cm)\") +\n",
    "  theme_minimal()"
   ]
  },
  {
   "cell_type": "code",
   "execution_count": null,
   "id": "2ce208d9-789f-49f8-bdb5-3a58b5bc5e86",
   "metadata": {
    "vscode": {
     "languageId": "r"
    }
   },
   "outputs": [],
   "source": [
    "# Summarise data to get mean and standard error per group\n",
    "weight_summary <- fish_data %>%\n",
    "  group_by(Lake) %>%\n",
    "  summarise(\n",
    "    mean_weight = mean(Weight_g),\n",
    "    se_weight = sd(Weight_g) / sqrt(n())\n",
    "  )\n",
    "\n",
    "# Bar plot with error bars\n",
    "ggplot(weight_summary, aes(x = Lake, y = mean_weight, fill = Lake)) +\n",
    "  geom_col(width = 0.6) +\n",
    "  geom_errorbar(aes(ymin = mean_weight - se_weight,\n",
    "                    ymax = mean_weight + se_weight),\n",
    "                width = 0.2) +\n",
    "  labs(title = \"Mean Fish Weight by Lake\",\n",
    "       x = \"Lake Type\",\n",
    "       y = \"Weight (gram)\") +\n",
    "  theme_minimal()"
   ]
  },
  {
   "cell_type": "code",
   "execution_count": null,
   "id": "ecce9472-913f-4f14-ad58-c366c253fd65",
   "metadata": {
    "vscode": {
     "languageId": "r"
    }
   },
   "outputs": [],
   "source": [
    "ggplot(fish_data, aes(x = Lake, y = Weight_g, fill = Lake)) +\n",
    "  geom_boxplot() +\n",
    "  labs(title = \"Fish Weight by Lake\",\n",
    "       x = \"Lake Type\",\n",
    "       y = \"Weigth (gram)\") +\n",
    "  theme_minimal()"
   ]
  },
  {
   "cell_type": "markdown",
   "id": "08a59b8b-c0ce-4c0a-8d8a-a690abc7bf77",
   "metadata": {
    "vscode": {
     "languageId": "r"
    }
   },
   "source": [
    "### 2.🐟 Independent t-test: Upstream vs Downstream Fish Length\n",
    "- What you're testing:\n",
    "    > Whether the mean fish length in the Upstream area is significantly different from the Downstream area.\n",
    "\n",
    "- We will calculate the t-statistic → the number of standard errors the means are apart.\n",
    "\n",
    "- Larger `t_value` → stronger evidence of difference.\n",
    "\n",
    "- The `p` value gives the probability of seeing such a difference by chance.\n",
    "    > - p < 0.05 → statistically significant difference ✅\n",
    "    > - p ≥ 0.05 → not statistically significant 🚫\n",
    "    \n",
    "- Cohen's d tells you how big the difference is:\n",
    "\n",
    "| d | Interpretation |\n",
    "|---|----------------|\n",
    "| 0.2 |\tSmall effect |\n",
    "| 0.5 | Medium effect|\n",
    "| 0.8+ | Large effect|\n",
    "\n",
    "> Even if p < 0.05, a small Cohen’s d might mean the difference isn’t practically meaningful."
   ]
  },
  {
   "cell_type": "code",
   "execution_count": null,
   "id": "5bba95c7-123f-43f6-bc00-26cc0bf7f359",
   "metadata": {
    "vscode": {
     "languageId": "r"
    }
   },
   "outputs": [],
   "source": [
    "### Perform an Independent t-test (Manual)\n",
    "\n",
    "# Create subsets\n",
    "fish_upstream <- subset(fish_data, Lake == \"Upstream\")\n",
    "fish_downstream <- subset(fish_data, Lake == \"Downstream\")\n",
    "\n",
    "# Means\n",
    "mean_up <- mean(fish_upstream$Length_cm)\n",
    "mean_down <- mean(fish_downstream$Length_cm)\n",
    "mean_diff <- mean_up - mean_down\n",
    "\n",
    "# Sample sizes\n",
    "n_up <- nrow(fish_upstream)\n",
    "n_down <- nrow(fish_downstream)\n",
    "\n",
    "# Degrees of freedom\n",
    "df <- n_up + n_down - 2\n",
    "\n",
    "# Variances\n",
    "var_up <- var(fish_upstream$Length_cm)\n",
    "var_down <- var(fish_downstream$Length_cm)\n",
    "\n",
    "# Pooled standard error\n",
    "se_pooled <- sqrt((var_up / n_up) + (var_down / n_down))\n",
    "\n",
    "### t-test Results\n",
    "\n",
    "# t-value\n",
    "t_value <- mean_diff / se_pooled\n",
    "\n",
    "# Two-tailed p-value\n",
    "p_value <- 2 * (1 - pt(abs(t_value), df = df))\n",
    "\n",
    "# Cohen's d (effect size)\n",
    "sd_up <- sd(fish_upstream$Length_cm)\n",
    "sd_down <- sd(fish_downstream$Length_cm)\n",
    "pooled_sd <- (sd_up + sd_down) / 2\n",
    "cohens_d <- mean_diff / pooled_sd\n",
    "\n",
    "### Print Results\n",
    "t_value     # how far apart the means are in SE units\n",
    "p_value     # is it statistically significant?\n",
    "cohens_d    # how big is the effect?"
   ]
  },
  {
   "cell_type": "code",
   "execution_count": null,
   "id": "cedc32a5-b46f-44b9-8b62-906c2bab6d1c",
   "metadata": {
    "vscode": {
     "languageId": "r"
    }
   },
   "outputs": [],
   "source": [
    "# Use your computed t_value and df\n",
    "# For example:\n",
    "# t_value <- 5.87\n",
    "# df <- 98\n",
    "\n",
    "alpha <- 0.05\n",
    "t_crit <- qt(1 - alpha/2, df = df)  # two-tailed\n",
    "\n",
    "x_vals <- seq(-4, 4, length.out = 300)\n",
    "y_vals <- dt(x_vals, df = df)\n",
    "\n",
    "ggplot(data.frame(x = x_vals, y = y_vals), aes(x, y)) +\n",
    "  geom_line(color = \"steelblue\", size = 1) +\n",
    "  \n",
    "  # Shade critical regions\n",
    "  geom_area(data = subset(data.frame(x = x_vals, y = y_vals), x <= -t_crit),\n",
    "            aes(x = x, y = y), fill = \"red\", alpha = 0.3) +\n",
    "  geom_area(data = subset(data.frame(x = x_vals, y = y_vals), x >= t_crit),\n",
    "            aes(x = x, y = y), fill = \"red\", alpha = 0.3) +\n",
    "  \n",
    "  # Observed t-value\n",
    "  geom_vline(xintercept = t_value, color = \"darkgreen\", linetype = \"dashed\", size = 1) +\n",
    "  \n",
    "  # Labels\n",
    "  labs(\n",
    "    title = \"t-Distribution Under H0\",\n",
    "    subtitle = paste0(\"t-value = \", round(t_value, 2), \n",
    "                      \", df = \", df, \n",
    "                      \", alpha = 0.05\"),\n",
    "    x = \"t-statistic\",\n",
    "    y = \"Density\"\n",
    "  ) +\n",
    "  theme_minimal()"
   ]
  },
  {
   "cell_type": "code",
   "execution_count": null,
   "id": "104ea8fd-3a4f-46f8-89f4-8f0dd68ba977",
   "metadata": {
    "vscode": {
     "languageId": "r"
    }
   },
   "outputs": [],
   "source": [
    "### Independent t-tests, the easy way\n",
    "\n",
    "# Conduct an independent t-test \n",
    "t.test(fish_upstream$Length_cm, fish_downstream$Length_cm, var.equal = T)"
   ]
  },
  {
   "cell_type": "code",
   "execution_count": null,
   "id": "f7f7728f-729e-4387-b351-070701b9db4e",
   "metadata": {
    "vscode": {
     "languageId": "r"
    }
   },
   "outputs": [],
   "source": [
    "### Independent t-tests, the easy way\n",
    "\n",
    "# Run t-test and store the result\n",
    "t_result <- t.test(fish_upstream$Weight_g, fish_downstream$Weight_g, var.equal = TRUE)\n",
    "\n",
    "# Extract t-value and degrees of freedom\n",
    "t_value <- t_result$statistic  # this is named \"t\"\n",
    "df <- t_result$parameter       # this is named \"df\""
   ]
  },
  {
   "cell_type": "code",
   "execution_count": null,
   "id": "1e700e8a-e46e-4256-bc62-b0c2b95717bb",
   "metadata": {
    "vscode": {
     "languageId": "r"
    }
   },
   "outputs": [],
   "source": [
    "# Use your computed t_value and df\n",
    "# For example:\n",
    "# t_value <- 5.87\n",
    "# df <- 98\n",
    "\n",
    "alpha <- 0.05\n",
    "t_crit <- qt(1 - alpha/2, df = df)  # two-tailed\n",
    "\n",
    "x_vals <- seq(-4, 4, length.out = 300)\n",
    "y_vals <- dt(x_vals, df = df)\n",
    "\n",
    "ggplot(data.frame(x = x_vals, y = y_vals), aes(x, y)) +\n",
    "  geom_line(color = \"steelblue\", size = 1) +\n",
    "  \n",
    "  # Shade critical regions\n",
    "  geom_area(data = subset(data.frame(x = x_vals, y = y_vals), x <= -t_crit),\n",
    "            aes(x = x, y = y), fill = \"red\", alpha = 0.3) +\n",
    "  geom_area(data = subset(data.frame(x = x_vals, y = y_vals), x >= t_crit),\n",
    "            aes(x = x, y = y), fill = \"red\", alpha = 0.3) +\n",
    "  \n",
    "  # Observed t-value\n",
    "  geom_vline(xintercept = t_value, color = \"darkgreen\", linetype = \"dashed\", size = 1) +\n",
    "  \n",
    "  # Labels\n",
    "  labs(\n",
    "    title = \"t-Distribution Under H0\",\n",
    "    subtitle = paste0(\"t-value = \", round(t_value, 2), \n",
    "                      \", df = \", df, \n",
    "                      \", alpha = 0.05\"),\n",
    "    x = \"t-statistic\",\n",
    "    y = \"Density\"\n",
    "  ) +\n",
    "  theme_minimal()"
   ]
  }
 ],
 "metadata": {
  "kernelspec": {
   "display_name": "R",
   "language": "R",
   "name": "ir"
  },
  "language_info": {
   "codemirror_mode": "r",
   "file_extension": ".r",
   "mimetype": "text/x-r-source",
   "name": "R",
   "pygments_lexer": "r",
   "version": "4.3.3"
  }
 },
 "nbformat": 4,
 "nbformat_minor": 5
}
